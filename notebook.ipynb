{
 "cells": [
  {
   "cell_type": "markdown",
   "metadata": {},
   "source": [
    "# In python, variables are pointers\n",
    "except basic types like `int`, `float`, `bool`"
   ]
  },
  {
   "cell_type": "code",
   "execution_count": 3,
   "metadata": {
    "scrolled": true
   },
   "outputs": [
    {
     "name": "stdout",
     "output_type": "stream",
     "text": [
      "[1, 2, 3, 4] [1, 2, 3, 4]\n"
     ]
    }
   ],
   "source": [
    "x = [1, 2, 3]\n",
    "y = x\n",
    "x.append(4)\n",
    "print(x, y)"
   ]
  },
  {
   "cell_type": "markdown",
   "metadata": {},
   "source": [
    "# pytorch as a tensor library\n",
    "like numpy"
   ]
  },
  {
   "cell_type": "code",
   "execution_count": 4,
   "metadata": {},
   "outputs": [],
   "source": [
    "import torch"
   ]
  },
  {
   "cell_type": "code",
   "execution_count": 110,
   "metadata": {},
   "outputs": [
    {
     "name": "stdout",
     "output_type": "stream",
     "text": [
      "tensor([ 6., 12., 20.])\n"
     ]
    }
   ],
   "source": [
    "x = torch.tensor([1.0, 2.0, 3.0])\n",
    "y = torch.tensor([3.0, 4.0, 5.0])\n",
    "\n",
    "z = x * y + y\n",
    "print(z)"
   ]
  },
  {
   "cell_type": "code",
   "execution_count": 111,
   "metadata": {},
   "outputs": [
    {
     "name": "stdout",
     "output_type": "stream",
     "text": [
      "tensor([ 4., 10., 18.])\n",
      "tensor([ 3.,  8., 15.])\n"
     ]
    }
   ],
   "source": [
    "x = torch.tensor([1.0, 2.0, 3.0])\n",
    "y = torch.tensor([3.0, 4.0, 5.0])\n",
    "x.add_(y.mul_(x))\n",
    "\n",
    "print(x)\n",
    "print(y)"
   ]
  },
  {
   "cell_type": "code",
   "execution_count": 13,
   "metadata": {},
   "outputs": [
    {
     "name": "stdout",
     "output_type": "stream",
     "text": [
      "tensor([[2., 3.],\n",
      "        [0., 1.]])\n",
      "torch.Size([2, 2])\n",
      "tensor([2., 3., 0., 1.])\n"
     ]
    }
   ],
   "source": [
    "x = torch.tensor([[2.0, 3.0], [0.0, 1.0]])\n",
    "print(x)\n",
    "print(x.size())\n",
    "print(x.flatten())"
   ]
  },
  {
   "cell_type": "code",
   "execution_count": 18,
   "metadata": {},
   "outputs": [
    {
     "name": "stdout",
     "output_type": "stream",
     "text": [
      "tensor([[ 2.2069, -6.5537,  3.7982],\n",
      "        [ 0.3199, -1.5850,  1.1190]])\n"
     ]
    }
   ],
   "source": [
    "x = torch.tensor([[2.0, 3.0], [0.0, 1.0]])\n",
    "y = torch.randn(2, 3)\n",
    "print(x @ y)"
   ]
  },
  {
   "cell_type": "code",
   "execution_count": 30,
   "metadata": {},
   "outputs": [
    {
     "name": "stdout",
     "output_type": "stream",
     "text": [
      "tensor([1., 1., 1.], dtype=torch.float64)\n",
      "tensor([[1., 1., 1., 1., 1.],\n",
      "        [1., 1., 1., 1., 1.],\n",
      "        [1., 1., 1., 1., 1.],\n",
      "        [1., 1., 1., 1., 1.]], dtype=torch.float64)\n"
     ]
    }
   ],
   "source": [
    "# creation\n",
    "x = torch.tensor([1, 2, 3], dtype=torch.float64, device='cpu')\n",
    "y = torch.ones(3, 3, dtype=torch.float64, device='cpu')\n",
    "\n",
    "w = torch.ones_like(x)  # torch.zeros_like, torch.empty_like, torch.randn_like, ...\n",
    "print(w)\n",
    "\n",
    "z = x.new_ones(4, 5)  # x.new_empty(4), x.new_full((2, 3), 42)\n",
    "print(z)"
   ]
  },
  {
   "cell_type": "code",
   "execution_count": 37,
   "metadata": {},
   "outputs": [
    {
     "name": "stdout",
     "output_type": "stream",
     "text": [
      "tensor([0., 1., 2., 3., 4., 5., 6., 7., 8., 9.], dtype=torch.float64)\n",
      "tensor(3., dtype=torch.float64)\n",
      "tensor([3., 4.], dtype=torch.float64)\n",
      "tensor([0., 3., 5., 6.], dtype=torch.float64)\n",
      "tensor([0., 2., 4., 6., 8.], dtype=torch.float64)\n"
     ]
    }
   ],
   "source": [
    "# indexing\n",
    "x = torch.arange(10, dtype=torch.float64)\n",
    "print(x)\n",
    "\n",
    "print(x[3])\n",
    "\n",
    "print(x[3:5])\n",
    "\n",
    "print(x[[0, 3, 5, 6]])\n",
    "\n",
    "print(x[::2])"
   ]
  },
  {
   "cell_type": "code",
   "execution_count": 136,
   "metadata": {},
   "outputs": [
    {
     "name": "stdout",
     "output_type": "stream",
     "text": [
      "tensor([0, 1, 2, 3, 4, 5, 6, 7, 8, 9])\n",
      "tensor([1, 6, 8, 9])\n",
      "tensor([1, 4, 7])\n"
     ]
    }
   ],
   "source": [
    "# indexing by mask\n",
    "x = torch.arange(10)\n",
    "print(x)\n",
    "\n",
    "m = torch.tensor([0, 1, 0, 0, 0, 0, 1, 0, 1, 1], dtype=torch.uint8)\n",
    "print(x[m])\n",
    "\n",
    "m = (x % 3 == 1)\n",
    "print(x[m])"
   ]
  },
  {
   "cell_type": "code",
   "execution_count": null,
   "metadata": {},
   "outputs": [],
   "source": []
  },
  {
   "cell_type": "code",
   "execution_count": 80,
   "metadata": {},
   "outputs": [
    {
     "name": "stdout",
     "output_type": "stream",
     "text": [
      "tensor([ 0.,  1.,  2.,  3.,  4.,  5.,  6.,  7.,  8.,  9., 10., 11.])\n",
      "tensor([[ 0.,  1.,  2.,  3.],\n",
      "        [ 4.,  5.,  6.,  7.],\n",
      "        [ 8.,  9., 10., 11.]])\n"
     ]
    }
   ],
   "source": [
    "# reshape\n",
    "x = torch.arange(12, dtype=torch.float32)\n",
    "print(x)\n",
    "\n",
    "x = x.view(3, 4)\n",
    "print(x)"
   ]
  },
  {
   "cell_type": "code",
   "execution_count": 83,
   "metadata": {},
   "outputs": [
    {
     "name": "stdout",
     "output_type": "stream",
     "text": [
      "tensor([[ 0.,  1.,  2.,  3.],\n",
      "        [ 4.,  5.,  6.,  7.],\n",
      "        [ 8.,  9., 10., 11.]])\n",
      "tensor([12., 15., 18., 21.])\n",
      "tensor([ 6., 22., 38.])\n"
     ]
    }
   ],
   "source": [
    "# reduction\n",
    "x = torch.arange(12, dtype=torch.float32).view(3, 4)\n",
    "print(x)\n",
    "\n",
    "print(x.sum(0))\n",
    "print(x.sum(1))\n",
    "\n",
    "# x.mean, x.min, x.max, x.prod"
   ]
  },
  {
   "cell_type": "markdown",
   "metadata": {},
   "source": [
    "# The power of pytoch: torch.autograd"
   ]
  },
  {
   "cell_type": "code",
   "execution_count": 42,
   "metadata": {},
   "outputs": [
    {
     "data": {
      "text/plain": [
       "(tensor(2.5000),)"
      ]
     },
     "execution_count": 42,
     "metadata": {},
     "output_type": "execute_result"
    }
   ],
   "source": [
    "x = torch.tensor(2.5, requires_grad=True)\n",
    "y = 0.5 * x ** 2\n",
    "\n",
    "torch.autograd.grad(y, x)"
   ]
  },
  {
   "cell_type": "code",
   "execution_count": 46,
   "metadata": {},
   "outputs": [
    {
     "data": {
      "text/plain": [
       "(tensor(1.), tensor([2., 4., 0.]))"
      ]
     },
     "execution_count": 46,
     "metadata": {},
     "output_type": "execute_result"
    }
   ],
   "source": [
    "x = torch.tensor(2.0, requires_grad=True)\n",
    "a = torch.tensor([1.0, 0.0, 0.0], requires_grad=True)\n",
    "y = x * a[0] + x ** 2 * a[1]\n",
    "\n",
    "torch.autograd.grad(y, [x, a])"
   ]
  },
  {
   "cell_type": "code",
   "execution_count": 54,
   "metadata": {},
   "outputs": [
    {
     "name": "stdout",
     "output_type": "stream",
     "text": [
      "None\n",
      "tensor(2.5000)\n",
      "tensor(3.5000)\n",
      "tensor(5.)\n"
     ]
    }
   ],
   "source": [
    "x = torch.tensor(2.5, requires_grad=True)\n",
    "print(x.grad)\n",
    "\n",
    "y = 0.5 * x ** 2\n",
    "torch.autograd.backward(y)\n",
    "print(x.grad)\n",
    "\n",
    "y = x + 42\n",
    "torch.autograd.backward(y)\n",
    "print(x.grad)\n",
    "\n",
    "x.grad = None\n",
    "y = x ** 2\n",
    "torch.autograd.backward(y)\n",
    "print(x.grad)"
   ]
  },
  {
   "cell_type": "code",
   "execution_count": 115,
   "metadata": {},
   "outputs": [
    {
     "data": {
      "text/plain": [
       "(tensor(1.), tensor(1.))"
      ]
     },
     "execution_count": 115,
     "metadata": {},
     "output_type": "execute_result"
    }
   ],
   "source": [
    "x = torch.tensor(2.5, requires_grad=True)\n",
    "y = torch.tensor(2.5, requires_grad=True)\n",
    "\n",
    "with torch.no_grad():\n",
    "    x.add_(y)\n",
    "\n",
    "z = x + y\n",
    "\n",
    "torch.autograd.grad(z, [x, y])"
   ]
  },
  {
   "cell_type": "code",
   "execution_count": null,
   "metadata": {},
   "outputs": [],
   "source": []
  },
  {
   "cell_type": "code",
   "execution_count": 65,
   "metadata": {},
   "outputs": [
    {
     "name": "stdout",
     "output_type": "stream",
     "text": [
      "tensor(5., grad_fn=<MulBackward0>)\n",
      "tensor(2.)\n"
     ]
    }
   ],
   "source": [
    "# higher order derivatives\n",
    "\n",
    "x = torch.tensor(2.5, requires_grad=True)\n",
    "y = x ** 2\n",
    "\n",
    "z, = torch.autograd.grad(y, x, create_graph=True)\n",
    "print(z)\n",
    "\n",
    "w, = torch.autograd.grad(z, x)\n",
    "print(w)"
   ]
  },
  {
   "cell_type": "markdown",
   "metadata": {},
   "source": [
    "# Load MNIST"
   ]
  },
  {
   "cell_type": "code",
   "execution_count": 66,
   "metadata": {},
   "outputs": [],
   "source": [
    "import torchvision"
   ]
  },
  {
   "cell_type": "code",
   "execution_count": 68,
   "metadata": {},
   "outputs": [
    {
     "name": "stdout",
     "output_type": "stream",
     "text": [
      "Downloading http://yann.lecun.com/exdb/mnist/train-images-idx3-ubyte.gz\n",
      "Downloading http://yann.lecun.com/exdb/mnist/train-labels-idx1-ubyte.gz\n",
      "Downloading http://yann.lecun.com/exdb/mnist/t10k-images-idx3-ubyte.gz\n",
      "Downloading http://yann.lecun.com/exdb/mnist/t10k-labels-idx1-ubyte.gz\n",
      "Processing...\n",
      "Done!\n"
     ]
    },
    {
     "data": {
      "text/plain": [
       "(<PIL.Image.Image image mode=L size=28x28 at 0x7F3B6C6FCEF0>, tensor(5))"
      ]
     },
     "execution_count": 68,
     "metadata": {},
     "output_type": "execute_result"
    }
   ],
   "source": [
    "dataset = torchvision.datasets.MNIST('some_directory', train=True, download=True)"
   ]
  },
  {
   "cell_type": "code",
   "execution_count": 69,
   "metadata": {},
   "outputs": [
    {
     "data": {
      "text/plain": [
       "(<PIL.Image.Image image mode=L size=28x28 at 0x7F3B6C73F7F0>, tensor(5))"
      ]
     },
     "execution_count": 69,
     "metadata": {},
     "output_type": "execute_result"
    }
   ],
   "source": [
    "dataset[0]"
   ]
  },
  {
   "cell_type": "code",
   "execution_count": 77,
   "metadata": {},
   "outputs": [
    {
     "name": "stdout",
     "output_type": "stream",
     "text": [
      "tensor(2)\n"
     ]
    },
    {
     "data": {
      "text/plain": [
       "<matplotlib.image.AxesImage at 0x7f3af3fa6c88>"
      ]
     },
     "execution_count": 77,
     "metadata": {},
     "output_type": "execute_result"
    },
    {
     "data": {
      "image/png": "[encoded data removed]",
      "text/plain": [
       "<Figure size 432x288 with 1 Axes>"
      ]
     },
     "metadata": {
      "needs_background": "light"
     },
     "output_type": "display_data"
    }
   ],
   "source": [
    "x, y = dataset[1034]\n",
    "\n",
    "print(y)\n",
    "\n",
    "import matplotlib.pyplot as plt\n",
    "plt.imshow(x)"
   ]
  },
  {
   "cell_type": "code",
   "execution_count": 117,
   "metadata": {},
   "outputs": [],
   "source": [
    "transform = torchvision.transforms.ToTensor()\n",
    "dataset = torchvision.datasets.MNIST('some_directory', train=True, download=True, transform=transform)\n",
    "\n",
    "x_tr = torch.stack([x for x, y in dataset])\n",
    "y_tr = torch.stack([y for x, y in dataset])"
   ]
  },
  {
   "cell_type": "code",
   "execution_count": 118,
   "metadata": {},
   "outputs": [],
   "source": [
    "x_tr = x_tr.view(-1, 28 * 28)\n",
    "x_tr = (x_tr - x_tr.mean(0)) / x_tr.std()"
   ]
  },
  {
   "cell_type": "markdown",
   "metadata": {},
   "source": [
    "# Perceptron 1\n",
    "using only tensors and autograd"
   ]
  },
  {
   "cell_type": "code",
   "execution_count": 175,
   "metadata": {},
   "outputs": [
    {
     "name": "stdout",
     "output_type": "stream",
     "text": [
      "1.9009095430374146\n",
      "0.5425315499305725\n",
      "0.48952051997184753\n",
      "0.46721360087394714\n",
      "0.4535720646381378\n",
      "0.4440196752548218\n",
      "0.43685463070869446\n",
      "0.43124091625213623\n",
      "0.4267041087150574\n",
      "0.42294973134994507\n"
     ]
    }
   ],
   "source": [
    "t_tr = (y_tr % 2).type(x_tr.dtype) * 2 - 1\n",
    "\n",
    "w = torch.randn(28 * 28, requires_grad=True)\n",
    "\n",
    "for step in range(1000):\n",
    "\n",
    "    out = x_tr @ w / 28\n",
    "    \n",
    "    loss = (out - t_tr).pow(2).mean()\n",
    "\n",
    "    if step % 100 == 0:\n",
    "        print(loss.item())\n",
    "\n",
    "    w.grad = None\n",
    "    loss.backward()\n",
    "    \n",
    "    with torch.no_grad():\n",
    "        w.add_(-w.grad)"
   ]
  },
  {
   "cell_type": "code",
   "execution_count": 178,
   "metadata": {},
   "outputs": [
    {
     "data": {
      "text/plain": [
       "tensor(0.1211, dtype=torch.float64)"
      ]
     },
     "execution_count": 178,
     "metadata": {},
     "output_type": "execute_result"
    }
   ],
   "source": [
    "((x_tr @ w) * t_tr <= 0).double().mean()"
   ]
  },
  {
   "cell_type": "code",
   "execution_count": 176,
   "metadata": {
    "scrolled": true
   },
   "outputs": [
    {
     "data": {
      "text/plain": [
       "<matplotlib.image.AxesImage at 0x7f3af21062b0>"
      ]
     },
     "execution_count": 176,
     "metadata": {},
     "output_type": "execute_result"
    },
    {
     "data": {
      "image/png": "[encoded data removed]",
      "text/plain": [
       "<Figure size 432x288 with 1 Axes>"
      ]
     },
     "metadata": {
      "needs_background": "light"
     },
     "output_type": "display_data"
    }
   ],
   "source": [
    "plt.imshow(w.view(28, 28).detach().numpy())"
   ]
  },
  {
   "cell_type": "markdown",
   "metadata": {},
   "source": [
    "### stochastic gradient descent"
   ]
  },
  {
   "cell_type": "code",
   "execution_count": 179,
   "metadata": {},
   "outputs": [
    {
     "name": "stdout",
     "output_type": "stream",
     "text": [
      "2.1037676334381104\n",
      "0.4646906554698944\n",
      "0.4586796760559082\n",
      "0.42235067486763\n",
      "0.4571816921234131\n",
      "0.42195141315460205\n",
      "0.36143365502357483\n",
      "0.5417263507843018\n",
      "0.5048329830169678\n",
      "0.4209337532520294\n",
      "0.3177398443222046\n",
      "0.45530110597610474\n",
      "0.47970297932624817\n",
      "0.4553396701812744\n",
      "0.36397016048431396\n",
      "0.43181294202804565\n",
      "0.40211722254753113\n",
      "0.3843066692352295\n",
      "0.3518679738044739\n",
      "0.3483385145664215\n"
     ]
    }
   ],
   "source": [
    "t_tr = (y_tr % 2).type(x_tr.dtype) * 2 - 1\n",
    "\n",
    "w = torch.randn(28 * 28, requires_grad=True)\n",
    "\n",
    "for step in range(20000):\n",
    "    \n",
    "    batch_index = torch.randperm(len(x_tr))[:128]\n",
    "    x_batch = x_tr[batch_index]\n",
    "    t_batch = t_tr[batch_index]\n",
    "\n",
    "    out = x_batch @ w / 28\n",
    "    \n",
    "    loss = (out - t_batch).pow(2).mean()\n",
    "\n",
    "    if step % 1000 == 0:\n",
    "        print(loss.item())\n",
    "\n",
    "    w.grad = None\n",
    "    loss.backward()\n",
    "    \n",
    "    with torch.no_grad():\n",
    "        w.add_(-0.1 * w.grad)"
   ]
  },
  {
   "cell_type": "code",
   "execution_count": 181,
   "metadata": {},
   "outputs": [
    {
     "data": {
      "text/plain": [
       "tensor(0.1137, dtype=torch.float64)"
      ]
     },
     "execution_count": 181,
     "metadata": {},
     "output_type": "execute_result"
    }
   ],
   "source": [
    "((x_tr @ w) * t_tr <= 0).double().mean()"
   ]
  },
  {
   "cell_type": "code",
   "execution_count": 182,
   "metadata": {},
   "outputs": [
    {
     "data": {
      "text/plain": [
       "<matplotlib.image.AxesImage at 0x7f3af214c780>"
      ]
     },
     "execution_count": 182,
     "metadata": {},
     "output_type": "execute_result"
    },
    {
     "data": {
      "image/png": "[encoded data removed]",
      "text/plain": [
       "<Figure size 432x288 with 1 Axes>"
      ]
     },
     "metadata": {
      "needs_background": "light"
     },
     "output_type": "display_data"
    }
   ],
   "source": [
    "plt.imshow(w.view(28, 28).detach().numpy())"
   ]
  },
  {
   "cell_type": "markdown",
   "metadata": {},
   "source": [
    "# Perceptron 2\n",
    "using `torch.optim`"
   ]
  },
  {
   "cell_type": "code",
   "execution_count": 183,
   "metadata": {},
   "outputs": [
    {
     "name": "stdout",
     "output_type": "stream",
     "text": [
      "1.6961007118225098\n",
      "0.561443567276001\n",
      "0.488383948802948\n",
      "0.39407968521118164\n",
      "0.44064751267433167\n",
      "0.37673211097717285\n",
      "0.39091089367866516\n",
      "0.36805883049964905\n",
      "0.387919545173645\n",
      "0.44890648126602173\n",
      "0.2922641336917877\n",
      "0.36027786135673523\n",
      "0.4058082103729248\n",
      "0.3936494290828705\n",
      "0.3668864965438843\n",
      "0.32366520166397095\n",
      "0.4838399589061737\n",
      "0.35324788093566895\n",
      "0.3053494989871979\n",
      "0.410905122756958\n"
     ]
    }
   ],
   "source": [
    "t_tr = (y_tr % 2).type(x_tr.dtype) * 2 - 1\n",
    "\n",
    "w = torch.randn(28 * 28, requires_grad=True)\n",
    "\n",
    "optim = torch.optim.Adam([w])\n",
    "\n",
    "for step in range(20000):\n",
    "    \n",
    "    batch_index = torch.randperm(len(x_tr))[:128]\n",
    "\n",
    "    x_batch = x_tr[batch_index]\n",
    "    t_batch = t_tr[batch_index]\n",
    "\n",
    "    out = x_batch @ w / 28\n",
    "    \n",
    "    loss = (out - t_batch).pow(2).mean()\n",
    "\n",
    "    if step % 1000 == 0:\n",
    "        print(loss.item())\n",
    "\n",
    "    optim.zero_grad()\n",
    "    loss.backward()\n",
    "    optim.step()"
   ]
  },
  {
   "cell_type": "code",
   "execution_count": 185,
   "metadata": {},
   "outputs": [
    {
     "data": {
      "text/plain": [
       "tensor(0.1067, dtype=torch.float64)"
      ]
     },
     "execution_count": 185,
     "metadata": {},
     "output_type": "execute_result"
    }
   ],
   "source": [
    "((x_tr @ w) * t_tr <= 0).double().mean()"
   ]
  },
  {
   "cell_type": "markdown",
   "metadata": {},
   "source": [
    "# Perceptron 3\n",
    "using `nn.Module`"
   ]
  },
  {
   "cell_type": "code",
   "execution_count": 186,
   "metadata": {},
   "outputs": [],
   "source": [
    "import torch.nn as nn"
   ]
  },
  {
   "cell_type": "code",
   "execution_count": 189,
   "metadata": {},
   "outputs": [
    {
     "name": "stdout",
     "output_type": "stream",
     "text": [
      "1.129401445388794\n",
      "0.40635886788368225\n",
      "0.41054707765579224\n",
      "0.4098632335662842\n",
      "0.4626077711582184\n",
      "0.3301481008529663\n",
      "0.4665408432483673\n",
      "0.40949946641921997\n",
      "0.36613601446151733\n",
      "0.39002078771591187\n",
      "0.4370722770690918\n",
      "0.3923724591732025\n",
      "0.3146885633468628\n",
      "0.377149373292923\n",
      "0.3350764811038971\n",
      "0.38348695635795593\n",
      "0.35853344202041626\n",
      "0.44187095761299133\n",
      "0.4869236946105957\n",
      "0.42585423588752747\n"
     ]
    }
   ],
   "source": [
    "t_tr = (y_tr % 2).type(x_tr.dtype) * 2 - 1\n",
    "\n",
    "perceptron = nn.Linear(28 * 28, 1)\n",
    "\n",
    "optim = torch.optim.Adam(perceptron.parameters())\n",
    "\n",
    "for step in range(20000):\n",
    "    \n",
    "    batch_index = torch.randperm(len(x_tr))[:128]\n",
    "\n",
    "    x_batch = x_tr[batch_index]\n",
    "    t_batch = t_tr[batch_index]\n",
    "\n",
    "    out = perceptron(x_batch).view(-1)\n",
    "    \n",
    "    loss = (out - t_batch).pow(2).mean()\n",
    "\n",
    "    if step % 1000 == 0:\n",
    "        print(loss.item())\n",
    "\n",
    "    optim.zero_grad()\n",
    "    loss.backward()\n",
    "    optim.step()"
   ]
  },
  {
   "cell_type": "code",
   "execution_count": 190,
   "metadata": {},
   "outputs": [
    {
     "data": {
      "text/plain": [
       "tensor(0.1067, dtype=torch.float64)"
      ]
     },
     "execution_count": 190,
     "metadata": {},
     "output_type": "execute_result"
    }
   ],
   "source": [
    "((x_tr @ w) * t_tr <= 0).double().mean()"
   ]
  },
  {
   "cell_type": "code",
   "execution_count": null,
   "metadata": {},
   "outputs": [],
   "source": []
  }
 ],
 "metadata": {
  "kernelspec": {
   "display_name": "Python 3",
   "language": "python",
   "name": "python3"
  },
  "language_info": {
   "codemirror_mode": {
    "name": "ipython",
    "version": 3
   },
   "file_extension": ".py",
   "mimetype": "text/x-python",
   "name": "python",
   "nbconvert_exporter": "python",
   "pygments_lexer": "ipython3",
   "version": "3.7.1"
  }
 },
 "nbformat": 4,
 "nbformat_minor": 2
}
